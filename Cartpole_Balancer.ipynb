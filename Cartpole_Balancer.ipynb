{
 "cells": [
  {
   "cell_type": "code",
   "execution_count": 42,
   "id": "425ee9bb-170f-4fbb-bb9b-83e8cc0c0148",
   "metadata": {},
   "outputs": [
    {
     "name": "stdout",
     "output_type": "stream",
     "text": [
      "cuda\n"
     ]
    }
   ],
   "source": [
    "import numpy as np\n",
    "import gymnasium as gym\n",
    "import os\n",
    "import copy\n",
    "import keyboard\n",
    "import random\n",
    "import torch\n",
    "import torch.nn as nn\n",
    "import torch.optim as optim\n",
    "import matplotlib.pyplot as plt\n",
    "from easydict import EasyDict as edict\n",
    "\n",
    "device = torch.device(\"cuda\" if torch.cuda.is_available() else \"cpu\") \n",
    "print(device)\n",
    "torch.set_default_dtype(torch.float64)"
   ]
  },
  {
   "cell_type": "code",
   "execution_count": 43,
   "id": "7095493a-205a-4a60-8280-a3aced6ca7a2",
   "metadata": {},
   "outputs": [],
   "source": [
    "#Hyperparameters\n",
    "hyper= edict()\n",
    "\n",
    "hyper.batch_size = 10000 #Size of mini batch\n",
    "hyper.gamma =0.99 #Discount\n",
    "hyper.learning_rate = 0.001 #Learning Rate\n",
    "\n",
    "hyper.total_time = 150000 #Total time steps\n",
    "hyper.buffer = 30000 #Size of replay buffer\n",
    "hyper.sync = 40  #Synchronization timesteps for target and q network\n",
    "hyper.train_freq= 10 #Frequency of training after replay buffer filled\n",
    "\n",
    "hyper.e_start = 1 #Starting epsilon\n",
    "hyper.e_end= 0.1 #Ending epsilon\n",
    "hyper.exp_fraction= 0.9 #% of total timesteps for decaying epsilon\n",
    "\n",
    "hyper.log= 1000 #Frequency of return logging\n",
    "hyper.num_envs=3 #Number of parallel environments"
   ]
  },
  {
   "cell_type": "code",
   "execution_count": 44,
   "id": "f3e901f8-e334-44c5-95c1-c7f42cb3645a",
   "metadata": {},
   "outputs": [],
   "source": [
    "class Agent(nn.Module):\n",
    "    def __init__(self, env):\n",
    "        super().__init__()\n",
    "        self.q_net = nn.Sequential(\n",
    "            nn.Linear(np.array(env.single_observation_space.shape).prod(), 40), nn.LeakyReLU(0.1),\n",
    "            nn.Linear(40, 64), nn.LeakyReLU(0.1), \n",
    "            nn.Linear(64, env.single_action_space.n), nn.LeakyReLU(0.1))\n",
    "\n",
    "        self.target_net = copy.deepcopy(self.q_net)  \n",
    "\n",
    "    def sync_net(self):\n",
    "        self.target_net.load_state_dict(self.q_net.state_dict())\n",
    "\n",
    "    def target_vals(self, obs):\n",
    "        return self.target_net(obs)\n",
    "    \n",
    "    def q_vals(self, obs):\n",
    "        return self.q_net(obs)       "
   ]
  },
  {
   "cell_type": "code",
   "execution_count": 45,
   "id": "73afe532-c0e3-4d48-b7b2-81f5325ae0e8",
   "metadata": {},
   "outputs": [],
   "source": [
    "class ReplayBuffer():\n",
    "    def __init__(self, buffer_size, obs_space, act_space, device, n_env):\n",
    "        self.buffer_size = buffer_size\n",
    "        self.n_env= n_env\n",
    "        self.device= device\n",
    "        \n",
    "        self.obs = np.empty((0, obs_space))\n",
    "        self.next_obs = np.empty((0, obs_space))\n",
    "        self.act = np.empty(0)\n",
    "        self.rew = np.empty(0)\n",
    "        self.dones = np.empty(0, dtype= bool)\n",
    "\n",
    "    def to_numpy(self, data):\n",
    "        if isinstance(data, torch.Tensor):\n",
    "            return data.cpu().numpy()\n",
    "        return data \n",
    "\n",
    "    def add(self, obs, next_obs, act, rew, dones):\n",
    "        #Convert to Numpy and send to CPU\n",
    "        obs = self.to_numpy(obs)\n",
    "        next_obs = self.to_numpy(next_obs)\n",
    "        act = self.to_numpy(act)\n",
    "        rew = self.to_numpy(rew)\n",
    "        done = self.to_numpy(dones)\n",
    "        \n",
    "        if len(self.obs)>= self.buffer_size:\n",
    "            self.obs= self.obs[self.n_env:]\n",
    "            self.next_obs= self.next_obs[self.n_env:]\n",
    "            self.act= self.act[self.n_env:]\n",
    "            self.rew= self.rew[self.n_env:]\n",
    "            self.dones= self.dones[self.n_env:]\n",
    "        \n",
    "        self.obs= np.append(self.obs, obs, axis=0)\n",
    "        self.next_obs= np.append(self.next_obs, next_obs, axis=0)\n",
    "        self.act= np.append(self.act, act, axis=0)\n",
    "        self.rew= np.append(self.rew, rew, axis=0)\n",
    "        self.dones= np.append(self.dones, dones, axis=0)\n",
    "        \n",
    "    def show(self):        \n",
    "        print(\"Observations: \", self.obs)\n",
    "        print(\"Next observations: \", self.next_obs)\n",
    "        print(\"Actions: \", self.act)\n",
    "        print(\"Rewards: \", self.rew)\n",
    "        print(\"Dones: \", self.dones)\n",
    "\n",
    "    def sample(self, batch_size):\n",
    "        index= np.random.choice(len(self.obs), batch_size, replace = False)\n",
    "        #print(\"Index: \", index)\n",
    "        data= edict\n",
    "        data.obs = torch.from_numpy(self.obs[index]).to(self.device)\n",
    "        data.next_obs= torch.from_numpy(self.next_obs[index]).to(self.device)\n",
    "        data.act= torch.from_numpy(self.act[index]).to(torch.int64).to(self.device)\n",
    "        data.rew= torch.from_numpy(self.rew[index]).to(torch.int64).to(self.device)\n",
    "        data.dones= torch.from_numpy(self.dones[index]).to(self.device)\n",
    "        return data\n",
    "        "
   ]
  },
  {
   "cell_type": "code",
   "execution_count": 46,
   "id": "97395c77-a4c6-4fa4-b519-441da167a4b0",
   "metadata": {},
   "outputs": [],
   "source": [
    "#Epsilon annealing\n",
    "def ret_e(start_e: float, end_e: float, duration: int, t: int):\n",
    "    slope = (end_e - start_e) / duration\n",
    "    return max(slope * t + start_e, end_e) "
   ]
  },
  {
   "cell_type": "code",
   "execution_count": 47,
   "id": "7024f05b-86fb-438c-bb51-8cce80d5eac4",
   "metadata": {},
   "outputs": [],
   "source": [
    "#TD target calculation\n",
    "def calc_TD_target(data, agent): \n",
    "    with torch.no_grad():\n",
    "        target_max, _ = agent.target_vals(data.next_obs).max(dim=1)\n",
    "        td_target = data.rew.flatten() + hyper.gamma * target_max * (1 - data.dones.flatten().float())\n",
    "    return td_target"
   ]
  },
  {
   "cell_type": "code",
   "execution_count": 48,
   "id": "5afa1411-321f-42a5-b6f8-bb889e6e7f39",
   "metadata": {},
   "outputs": [],
   "source": [
    "#TD target calculation for Double Deep Q-learning\n",
    "def calc_TD_target_DDQN(data, agent):\n",
    "    with torch.no_grad():                                         \n",
    "        q_net_vals= agent.q_vals(data.next_obs)\n",
    "        act= torch.argmax(q_net_vals, dim=1)\n",
    "        vals = agent.target_vals(data.next_obs)\n",
    "        target_max= vals[torch.arange(vals.size(0)) , act]\n",
    "        td_target = data.rew.flatten() + hyper.gamma * target_max * (1 - data.dones.flatten().float())\n",
    "\n",
    "    return td_target"
   ]
  },
  {
   "cell_type": "code",
   "execution_count": 49,
   "id": "9d9dbcc9-6c57-4dba-b0f9-e09b25841f57",
   "metadata": {},
   "outputs": [],
   "source": [
    "#e-greedy policy calculation\n",
    "def e_greedy_policy(agent, obs, epsilon, env): \n",
    "    if random.random() < epsilon:\n",
    "        action = np.array([env.single_action_space.sample() for i in range(hyper.num_envs)])\n",
    "    else:\n",
    "        q_values = agent.q_vals(torch.Tensor(obs).to(device))  \n",
    "        action = torch.argmax(q_values, dim=1).cpu().numpy()       \n",
    "    return action"
   ]
  },
  {
   "cell_type": "code",
   "execution_count": 50,
   "id": "3791b836-73fd-4adf-a284-778423f9ad0b",
   "metadata": {},
   "outputs": [
    {
     "name": "stdout",
     "output_type": "stream",
     "text": [
      "10000 episode return 9.0\n",
      "20000 episode return 140.0\n",
      "30000 episode return 274.0\n",
      "40000 episode return 305.0\n",
      "50000 episode return 390.0\n",
      "60000 episode return 229.0\n",
      "70000 episode return 206.0\n",
      "80000 episode return 254.0\n",
      "90000 episode return 274.0\n",
      "100000 episode return 10000.0\n",
      "110000 episode return 137.0\n",
      "120000 episode return 10000.0\n",
      "130000 episode return 10000.0\n",
      "140000 episode return 10000.0\n",
      "150000 episode return 10000.0\n"
     ]
    },
    {
     "data": {
      "image/png": "[encoded data removed]",
      "text/plain": [
       "<Figure size 1000x600 with 1 Axes>"
      ]
     },
     "metadata": {},
     "output_type": "display_data"
    }
   ],
   "source": [
    "#Parallelized training environments\n",
    "env = gym.make_vec(\"CartPole-v1\", num_envs = hyper.num_envs, vectorization_mode=\"async\")\n",
    "\n",
    "#Test environment\n",
    "test_env= gym.make_vec(\"CartPole-v1\", num_envs = 1, vectorization_mode=\"async\")\n",
    "\n",
    "#Define the replay buffer\n",
    "act_dim=1\n",
    "rb= ReplayBuffer(hyper.buffer, env.single_observation_space.shape[0], act_dim, device, hyper.num_envs)\n",
    "\n",
    "#Agent class and optimizer\n",
    "agent = Agent(env).to(device)\n",
    "optimizer = optim.Adam(agent.q_net.parameters(), lr=hyper.learning_rate)\n",
    "\n",
    "#Logging rewards\n",
    "return_log= np.empty((0,2))\n",
    "\n",
    "\n",
    "obs, _= env.reset()\n",
    "for i in range(hyper.total_time):\n",
    "    epsilon = ret_e(hyper.e_start, hyper.e_end, hyper.exp_fraction * hyper.total_time, i)\n",
    "    action = e_greedy_policy(agent, obs , epsilon, env)\n",
    "    next_obs, reward, done, _, infos=  env.step(action)\n",
    "    \n",
    "    rb.add(obs, next_obs, action, reward, done)\n",
    "    obs=next_obs\n",
    "\n",
    "    if i*hyper.num_envs >= hyper.buffer:\n",
    "        if i % hyper.train_freq==0:\n",
    "            data= rb.sample(hyper.batch_size)\n",
    "            old_val = agent.q_vals(data.obs).gather(1, data.act.unsqueeze(-1)).squeeze(-1)\n",
    "            td_target = calc_TD_target_DDQN(data,agent)\n",
    "            #td_target = calc_TD_target(data, agent)\n",
    "            loss = (td_target - old_val).square().mean() \n",
    "            optimizer.zero_grad()\n",
    "            loss.backward()\n",
    "            optimizer.step()\n",
    "    \n",
    "    if i % hyper.sync == 0:\n",
    "            agent.sync_net()\n",
    "\n",
    "    #For performance logging only\n",
    "    if (i+1)%hyper.log==0:\n",
    "        ret=0\n",
    "        t_obs, _= test_env.reset()\n",
    "        t_done=False\n",
    "        \n",
    "        while  (t_done==False) and (ret < 10000):\n",
    "            q_max= agent.q_vals(torch.Tensor(t_obs).to(device))  \n",
    "            t_action = torch.argmax(q_max, dim=1).cpu().numpy() \n",
    "            t_next_obs, t_reward, t_done, _, t_infos=  test_env.step(t_action) \n",
    "            t_obs= t_next_obs\n",
    "            ret += t_reward\n",
    "        \n",
    "        ret=ret.item()    \n",
    "        return_log = np.append(return_log, np.array([[i+1, ret]]), axis=0)\n",
    "        if (i+1)%10000==0:\n",
    "            print(f\"{i+1} episode return {ret}\")\n",
    "            \n",
    "test_env.close()\n",
    "env.close()   \n",
    "\n",
    "# Plot the return over time\n",
    "plt.figure(figsize=(10, 6))\n",
    "plt.plot(return_log[:, 0], return_log[:, 1], marker='o', linestyle='-', color='b')\n",
    "plt.xlabel('Timesteps')\n",
    "plt.ylabel('Return')\n",
    "plt.title('Return Over Timesteps')\n",
    "plt.grid(True)\n",
    "plt.show()"
   ]
  },
  {
   "cell_type": "code",
   "execution_count": 51,
   "id": "149038cd-efd9-4ef0-8704-397511956001",
   "metadata": {},
   "outputs": [
    {
     "name": "stdout",
     "output_type": "stream",
     "text": [
      "Exiting...\n"
     ]
    }
   ],
   "source": [
    "#Run the trained policy\n",
    "test_env= gym.make_vec(\"CartPole-v1\", num_envs = 1, vectorization_mode=\"async\", render_mode='human')\n",
    "t_obs, _= test_env.reset()\n",
    "t_done=False\n",
    "\n",
    "while not t_done:\n",
    "    test_env.render()\n",
    "    if keyboard.is_pressed('q'):\n",
    "        print(\"Exiting...\")\n",
    "        break\n",
    "    q_max= agent.q_vals(torch.Tensor(t_obs).to(device))  \n",
    "    t_action = torch.argmax(q_max, dim=1).cpu().numpy() \n",
    "    t_next_obs, t_reward, t_done, _, t_infos=  test_env.step(t_action) \n",
    "    t_obs= t_next_obs\n",
    "test_env.close()"
   ]
  }
 ],
 "metadata": {
  "kernelspec": {
   "display_name": "Python 3 (ipykernel)",
   "language": "python",
   "name": "python3"
  },
  "language_info": {
   "codemirror_mode": {
    "name": "ipython",
    "version": 3
   },
   "file_extension": ".py",
   "mimetype": "text/x-python",
   "name": "python",
   "nbconvert_exporter": "python",
   "pygments_lexer": "ipython3",
   "version": "3.12.5"
  }
 },
 "nbformat": 4,
 "nbformat_minor": 5
}
